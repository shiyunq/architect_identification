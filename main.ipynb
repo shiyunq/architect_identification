{
 "cells": [
  {
   "cell_type": "code",
   "execution_count": 14,
   "metadata": {},
   "outputs": [
    {
     "name": "stdout",
     "output_type": "stream",
     "text": [
      "1 Physical GPUs, 1 Logical GPUs\n"
     ]
    }
   ],
   "source": [
    "# trains the baseline model and transfer learning models and gets information regarding accuracy\n",
    "# plots grad-cam heat maps and confusion matrices\n",
    "\n",
    "import numpy as np\n",
    "import tensorflow as tf\n",
    "from tensorflow.python.keras.utils.data_utils import Sequence\n",
    "from tensorflow.keras.applications.resnet_v2 import preprocess_input"
   ]
  },
  {
   "cell_type": "code",
   "execution_count": 15,
   "metadata": {},
   "outputs": [],
   "source": [
    "data = np.load('d.npz', allow_pickle=True)\n",
    "data = dict(data)\n",
    "\n",
    "x_train = data['x_train']\n",
    "y_train = data['y_train']\n",
    "x_test = data['x_test']\n",
    "y_test = data['y_test']\n",
    "\n",
    "x_train_p = preprocess_input(x_train)\n",
    "x_test_p = preprocess_input(x_test)\n",
    "\n",
    "classes = 23\n",
    "from tensorflow.keras.utils import to_categorical\n",
    "y_train_p = to_categorical(y_train, classes, dtype =\"uint8\")  \n",
    "y_test_p = to_categorical(y_test, classes, dtype =\"uint8\") "
   ]
  },
  {
   "cell_type": "code",
   "execution_count": 16,
   "metadata": {},
   "outputs": [],
   "source": [
    "callback = tf.keras.callbacks.EarlyStopping(patience=2, restore_best_weights = True)"
   ]
  },
  {
   "cell_type": "code",
   "execution_count": 17,
   "metadata": {},
   "outputs": [
    {
     "data": {
      "text/plain": [
       "'# baseline\\nmodel.add(layers.experimental.preprocessing.RandomFlip(\"horizontal\", input_shape=(224, 224, 3)))\\nmodel.add(layers.Conv2D(64, (3, 3)))\\nmodel.add(layers.BatchNormalization(axis = 1))\\nmodel.add(layers.Activation(\\'relu\\'))\\nmodel.add(layers.Dropout(.2))\\nmodel.add(layers.MaxPooling2D((2, 2)))\\nmodel.add(layers.Conv2D(128, (3, 3)))\\nmodel.add(layers.BatchNormalization(axis = 1))\\nmodel.add(layers.Activation(\\'relu\\'))\\nmodel.add(layers.Dropout(.2))\\nmodel.add(layers.MaxPooling2D((2, 2)))\\nmodel.add(layers.Conv2D(256, (3, 3)))\\nmodel.add(layers.BatchNormalization(axis = 1))\\nmodel.add(layers.Activation(\\'relu\\'))\\nmodel.add(layers.Dropout(.2))\\nmodel.add(layers.MaxPooling2D((2, 2)))\\nmodel.add(layers.Conv2D(2048, (3, 3)))\\nmodel.add(layers.BatchNormalization(axis = 1))\\nmodel.add(layers.Activation(\\'relu\\'))\\nmodel.add(layers.Dropout(.2))\\nmodel.add(layers.MaxPooling2D((2, 2)))\\nmodel.add(layers.Flatten())\\nmodel.add(layers.Dense(classes, kernel_regularizer=regularizers.l1_l2(l2=1e-3),\\n    bias_regularizer=regularizers.l2(1e-3),\\n    activity_regularizer=regularizers.l2(1e-3), activation = \\'softmax\\'))'"
      ]
     },
     "execution_count": 17,
     "metadata": {},
     "output_type": "execute_result"
    }
   ],
   "source": [
    "from tensorflow.keras.models import Model\n",
    "from tensorflow.keras import layers, regularizers, optimizers\n",
    "from tensorflow.keras.applications.resnet_v2 import ResNet50V2\n",
    "#from tensorflow.keras.applications.densenet import DenseNet121\n",
    "from tensorflow.keras.constraints import max_norm\n",
    "\n",
    "model = tf.keras.Sequential()\n",
    "\n",
    "# resnet\n",
    "model.add(layers.experimental.preprocessing.RandomFlip(\"horizontal\", input_shape = (224, 224, 3)))\n",
    "#model.add(layers.experimental.preprocessing.RandomRotation(0.05,input_shape = (224, 224, 3)))\n",
    "model.add(ResNet50V2(weights='imagenet',  \n",
    "                 include_top=False,\n",
    "                 pooling='avg'))\n",
    "model.add(layers.Dropout(0.3))\n",
    "model.add(layers.Dense(classes, kernel_regularizer=regularizers.l1_l2(l1=1e-3, l2=1e-4),\n",
    "                 bias_regularizer=regularizers.l2(1e-4),\n",
    "                 kernel_constraint=max_norm(2)))\n",
    "model.add(layers.BatchNormalization(axis = 1))\n",
    "model.add(layers.Activation('softmax'))\n",
    "\n",
    "model.layers[1].trainable = False\n",
    "\n",
    "# baseline\n",
    "'''model.add(layers.experimental.preprocessing.RandomFlip(\"horizontal\", input_shape=(224, 224, 3)))\n",
    "model.add(layers.Conv2D(64, (3, 3)))\n",
    "model.add(layers.BatchNormalization(axis = 1))\n",
    "model.add(layers.Activation('relu'))\n",
    "model.add(layers.Dropout(.2))\n",
    "model.add(layers.MaxPooling2D((2, 2)))\n",
    "model.add(layers.Conv2D(128, (3, 3)))\n",
    "model.add(layers.BatchNormalization(axis = 1))\n",
    "model.add(layers.Activation('relu'))\n",
    "model.add(layers.Dropout(.2))\n",
    "model.add(layers.MaxPooling2D((2, 2)))\n",
    "model.add(layers.Conv2D(256, (3, 3)))\n",
    "model.add(layers.BatchNormalization(axis = 1))\n",
    "model.add(layers.Activation('relu'))\n",
    "model.add(layers.Dropout(.2))\n",
    "model.add(layers.MaxPooling2D((2, 2)))\n",
    "model.add(layers.Conv2D(2048, (3, 3)))\n",
    "model.add(layers.BatchNormalization(axis = 1))\n",
    "model.add(layers.Activation('relu'))\n",
    "model.add(layers.Dropout(.2))\n",
    "model.add(layers.MaxPooling2D((2, 2)))\n",
    "model.add(layers.Flatten())\n",
    "model.add(layers.Dense(classes, kernel_regularizer=regularizers.l1_l2(l2=1e-3),\n",
    "    bias_regularizer=regularizers.l2(1e-3),\n",
    "    activity_regularizer=regularizers.l2(1e-3), activation = 'softmax'))'''\n"
   ]
  },
  {
   "cell_type": "code",
   "execution_count": 18,
   "metadata": {},
   "outputs": [
    {
     "name": "stdout",
     "output_type": "stream",
     "text": [
      "(7037, 23)\n",
      "(None, 224, 224, 3)\n",
      "(None, 2048)\n",
      "(None, 2048)\n",
      "(None, 23)\n",
      "(None, 23)\n"
     ]
    }
   ],
   "source": [
    "opt = optimizers.Adam(learning_rate=1e-3)\n",
    "model.compile(\n",
    "    optimizer = opt,\n",
    "    loss='categorical_crossentropy',\n",
    "    metrics=['accuracy']\n",
    ")\n",
    "\n",
    "print(y_train_p.shape)\n",
    "for layer in model.layers:\n",
    "    print(layer.output_shape)"
   ]
  },
  {
   "cell_type": "code",
   "execution_count": 19,
   "metadata": {},
   "outputs": [
    {
     "name": "stdout",
     "output_type": "stream",
     "text": [
      "Epoch 1/20\n",
      "176/176 [==============================] - ETA: 0s - loss: 3.5810 - accuracy: 0.2448WARNING:tensorflow:Callbacks method `on_test_batch_end` is slow compared to the batch time (batch time: 0.0130s vs `on_test_batch_end` time: 0.0638s). Check your callbacks.\n",
      "176/176 [==============================] - 19s 106ms/step - loss: 3.5810 - accuracy: 0.2448 - val_loss: 2.7941 - val_accuracy: 0.4091\n",
      "Epoch 2/20\n",
      "176/176 [==============================] - 18s 100ms/step - loss: 2.6266 - accuracy: 0.4376 - val_loss: 2.4908 - val_accuracy: 0.4716\n",
      "Epoch 3/20\n",
      "176/176 [==============================] - 18s 100ms/step - loss: 2.3501 - accuracy: 0.4946 - val_loss: 2.3799 - val_accuracy: 0.4893\n",
      "Epoch 4/20\n",
      "176/176 [==============================] - 18s 101ms/step - loss: 2.2038 - accuracy: 0.5262 - val_loss: 2.3308 - val_accuracy: 0.5050\n",
      "Epoch 5/20\n",
      "176/176 [==============================] - 18s 101ms/step - loss: 2.1222 - accuracy: 0.5509 - val_loss: 2.2979 - val_accuracy: 0.5142\n",
      "Epoch 6/20\n",
      "176/176 [==============================] - 18s 101ms/step - loss: 2.0867 - accuracy: 0.5594 - val_loss: 2.2783 - val_accuracy: 0.5312\n",
      "Epoch 7/20\n",
      "176/176 [==============================] - 18s 101ms/step - loss: 2.0684 - accuracy: 0.5573 - val_loss: 2.2659 - val_accuracy: 0.5220\n",
      "Epoch 8/20\n",
      "176/176 [==============================] - 18s 101ms/step - loss: 2.0494 - accuracy: 0.5696 - val_loss: 2.2651 - val_accuracy: 0.5142\n",
      "Epoch 9/20\n",
      "176/176 [==============================] - 18s 101ms/step - loss: 2.0361 - accuracy: 0.5711 - val_loss: 2.2981 - val_accuracy: 0.5121\n",
      "Epoch 10/20\n",
      "176/176 [==============================] - 18s 102ms/step - loss: 2.0266 - accuracy: 0.5685 - val_loss: 2.2657 - val_accuracy: 0.5348\n"
     ]
    }
   ],
   "source": [
    "tf.keras.backend.clear_session()\n",
    "# model.fit(train_iterator, validation_data = val_iterator, epochs = 15, callbacks = [callback])\n",
    "history = model.fit(x_train_p, y_train_p, batch_size = 32, epochs = 20, validation_split = 0.2, callbacks = [callback])"
   ]
  },
  {
   "cell_type": "code",
   "execution_count": 24,
   "metadata": {},
   "outputs": [
    {
     "name": "stdout",
     "output_type": "stream",
     "text": [
      "INFO:tensorflow:Assets written to: no_bn1\\assets\n"
     ]
    }
   ],
   "source": [
    "model.save('no_bn1')"
   ]
  },
  {
   "cell_type": "code",
   "execution_count": 21,
   "metadata": {},
   "outputs": [],
   "source": [
    "#model = tf.keras.models.load_model('d23_32drop3_con')\n",
    "model.layers[1].trainable = True\n",
    "opt = optimizers.Adam(learning_rate=1e-4)\n",
    "model.compile(\n",
    "    optimizer = opt,\n",
    "    loss='categorical_crossentropy',\n",
    "    metrics=['accuracy']\n",
    ")"
   ]
  },
  {
   "cell_type": "code",
   "execution_count": 22,
   "metadata": {
    "scrolled": false
   },
   "outputs": [
    {
     "name": "stdout",
     "output_type": "stream",
     "text": [
      "Epoch 1/20\n",
      "  2/176 [..............................] - ETA: 21s - loss: 2.7685 - accuracy: 0.3594WARNING:tensorflow:Callbacks method `on_train_batch_end` is slow compared to the batch time (batch time: 0.0928s vs `on_train_batch_end` time: 0.1472s). Check your callbacks.\n",
      "176/176 [==============================] - ETA: 0s - loss: 2.1115 - accuracy: 0.5564WARNING:tensorflow:Callbacks method `on_test_batch_end` is slow compared to the batch time (batch time: 0.0359s vs `on_test_batch_end` time: 0.0559s). Check your callbacks.\n",
      "176/176 [==============================] - 48s 272ms/step - loss: 2.1115 - accuracy: 0.5564 - val_loss: 1.9275 - val_accuracy: 0.6129\n",
      "Epoch 2/20\n",
      "176/176 [==============================] - 47s 268ms/step - loss: 1.2630 - accuracy: 0.8144 - val_loss: 1.8077 - val_accuracy: 0.6435\n",
      "Epoch 3/20\n",
      "176/176 [==============================] - 47s 270ms/step - loss: 0.8712 - accuracy: 0.9234 - val_loss: 1.7419 - val_accuracy: 0.6676\n",
      "Epoch 4/20\n",
      "176/176 [==============================] - 47s 268ms/step - loss: 0.6950 - accuracy: 0.9636 - val_loss: 1.7056 - val_accuracy: 0.6861\n",
      "Epoch 5/20\n",
      "176/176 [==============================] - 48s 270ms/step - loss: 0.6032 - accuracy: 0.9806 - val_loss: 1.6691 - val_accuracy: 0.6911\n",
      "Epoch 6/20\n",
      "176/176 [==============================] - 48s 273ms/step - loss: 0.5346 - accuracy: 0.9883 - val_loss: 1.6529 - val_accuracy: 0.6932\n",
      "Epoch 7/20\n",
      "176/176 [==============================] - 48s 271ms/step - loss: 0.4915 - accuracy: 0.9925 - val_loss: 1.6206 - val_accuracy: 0.6818\n",
      "Epoch 8/20\n",
      "176/176 [==============================] - 47s 270ms/step - loss: 0.4580 - accuracy: 0.9917 - val_loss: 1.6280 - val_accuracy: 0.6911\n",
      "Epoch 9/20\n",
      "176/176 [==============================] - 47s 269ms/step - loss: 0.4351 - accuracy: 0.9904 - val_loss: 1.7700 - val_accuracy: 0.6577\n"
     ]
    }
   ],
   "source": [
    "#tf.keras.backend.clear_session()\n",
    "history = model.fit(x_train_p, y_train_p, batch_size = 32, epochs = 20, validation_split = 0.2, callbacks = [callback])"
   ]
  },
  {
   "cell_type": "code",
   "execution_count": 25,
   "metadata": {},
   "outputs": [
    {
     "name": "stdout",
     "output_type": "stream",
     "text": [
      "Epoch 1/20\n",
      "  2/176 [..............................] - ETA: 21s - loss: 0.4510 - accuracy: 0.9844WARNING:tensorflow:Callbacks method `on_train_batch_end` is slow compared to the batch time (batch time: 0.0937s vs `on_train_batch_end` time: 0.1476s). Check your callbacks.\n",
      "176/176 [==============================] - ETA: 0s - loss: 0.4490 - accuracy: 0.9957WARNING:tensorflow:Callbacks method `on_test_batch_end` is slow compared to the batch time (batch time: 0.0136s vs `on_test_batch_end` time: 0.0658s). Check your callbacks.\n",
      "176/176 [==============================] - 48s 270ms/step - loss: 0.4490 - accuracy: 0.9957 - val_loss: 1.5086 - val_accuracy: 0.7074\n",
      "Epoch 2/20\n",
      "176/176 [==============================] - 47s 268ms/step - loss: 0.4263 - accuracy: 0.9973 - val_loss: 1.4963 - val_accuracy: 0.7088\n",
      "Epoch 3/20\n",
      "176/176 [==============================] - 47s 270ms/step - loss: 0.4093 - accuracy: 0.9989 - val_loss: 1.4846 - val_accuracy: 0.7074\n",
      "Epoch 4/20\n",
      "176/176 [==============================] - 48s 270ms/step - loss: 0.3966 - accuracy: 0.9991 - val_loss: 1.4634 - val_accuracy: 0.7081\n",
      "Epoch 5/20\n",
      "176/176 [==============================] - 48s 272ms/step - loss: 0.3845 - accuracy: 0.9996 - val_loss: 1.4479 - val_accuracy: 0.7116\n",
      "Epoch 6/20\n",
      "176/176 [==============================] - 48s 271ms/step - loss: 0.3698 - accuracy: 0.9998 - val_loss: 1.4332 - val_accuracy: 0.7124\n",
      "Epoch 7/20\n",
      "176/176 [==============================] - 48s 271ms/step - loss: 0.3584 - accuracy: 0.9998 - val_loss: 1.4283 - val_accuracy: 0.7138\n",
      "Epoch 8/20\n",
      "176/176 [==============================] - 48s 270ms/step - loss: 0.3469 - accuracy: 0.9993 - val_loss: 1.4105 - val_accuracy: 0.7159\n",
      "Epoch 9/20\n",
      "176/176 [==============================] - 48s 271ms/step - loss: 0.3338 - accuracy: 1.0000 - val_loss: 1.3876 - val_accuracy: 0.7202\n",
      "Epoch 10/20\n",
      "176/176 [==============================] - 47s 270ms/step - loss: 0.3226 - accuracy: 0.9998 - val_loss: 1.3818 - val_accuracy: 0.7131\n",
      "Epoch 11/20\n",
      "176/176 [==============================] - 47s 269ms/step - loss: 0.3117 - accuracy: 0.9998 - val_loss: 1.3740 - val_accuracy: 0.7202\n",
      "Epoch 12/20\n",
      "176/176 [==============================] - 48s 271ms/step - loss: 0.3005 - accuracy: 0.9996 - val_loss: 1.3513 - val_accuracy: 0.7188\n",
      "Epoch 13/20\n",
      "176/176 [==============================] - 48s 270ms/step - loss: 0.2896 - accuracy: 0.9998 - val_loss: 1.3350 - val_accuracy: 0.7202\n",
      "Epoch 14/20\n",
      "176/176 [==============================] - 47s 270ms/step - loss: 0.2782 - accuracy: 1.0000 - val_loss: 1.3383 - val_accuracy: 0.7209\n",
      "Epoch 15/20\n",
      "176/176 [==============================] - 48s 275ms/step - loss: 0.2681 - accuracy: 0.9998 - val_loss: 1.3216 - val_accuracy: 0.7195\n",
      "Epoch 16/20\n",
      "176/176 [==============================] - 48s 273ms/step - loss: 0.2598 - accuracy: 0.9996 - val_loss: 1.3136 - val_accuracy: 0.7266\n",
      "Epoch 17/20\n",
      "176/176 [==============================] - 48s 270ms/step - loss: 0.2491 - accuracy: 1.0000 - val_loss: 1.3031 - val_accuracy: 0.7195\n",
      "Epoch 18/20\n",
      "176/176 [==============================] - 48s 270ms/step - loss: 0.2398 - accuracy: 0.9996 - val_loss: 1.2917 - val_accuracy: 0.7216\n",
      "Epoch 19/20\n",
      "176/176 [==============================] - 48s 271ms/step - loss: 0.2303 - accuracy: 1.0000 - val_loss: 1.2900 - val_accuracy: 0.7138\n",
      "Epoch 20/20\n",
      "176/176 [==============================] - 48s 270ms/step - loss: 0.2223 - accuracy: 0.9996 - val_loss: 1.2720 - val_accuracy: 0.7159\n"
     ]
    }
   ],
   "source": [
    "opt = optimizers.Adam(learning_rate=1e-5)\n",
    "model.compile(\n",
    "    optimizer = opt,\n",
    "    loss='categorical_crossentropy',\n",
    "    metrics=['accuracy']\n",
    ")\n",
    "history = model.fit(x_train_p, y_train_p, batch_size = 32, epochs = 20, validation_split = 0.2, callbacks = [callback])"
   ]
  },
  {
   "cell_type": "code",
   "execution_count": 26,
   "metadata": {},
   "outputs": [
    {
     "name": "stdout",
     "output_type": "stream",
     "text": [
      "56/56 [==============================] - 4s 77ms/step - loss: 1.3172 - accuracy: 0.7023\n"
     ]
    },
    {
     "data": {
      "text/plain": [
       "[1.3171943426132202, 0.70225989818573]"
      ]
     },
     "execution_count": 26,
     "metadata": {},
     "output_type": "execute_result"
    }
   ],
   "source": [
    "model.evaluate(x_test_p, y_test_p)"
   ]
  },
  {
   "cell_type": "code",
   "execution_count": 13,
   "metadata": {},
   "outputs": [
    {
     "name": "stdout",
     "output_type": "stream",
     "text": [
      "INFO:tensorflow:Assets written to: resnet50_1\\assets\n"
     ]
    }
   ],
   "source": [
    "model.save('resnet50_1')"
   ]
  },
  {
   "cell_type": "code",
   "execution_count": 4,
   "metadata": {},
   "outputs": [
    {
     "name": "stdout",
     "output_type": "stream",
     "text": [
      "0.8762886597938144 0.9587628865979382\n"
     ]
    }
   ],
   "source": [
    "t = np.load('data/ito.npz', allow_pickle = True)\n",
    "t = dict(t)\n",
    "xt = t['x_test']\n",
    "yt = t['y_test']\n",
    "xt = preprocess_input(xt)\n",
    "'''xt = x_test_p\n",
    "yt = y_test'''\n",
    "size = xt.shape[0]\n",
    "top1 = 0.0\n",
    "top5 = 0.0   \n",
    "preds = model.predict(xt)\n",
    "'''probs = np.array([.034,.037,0.050,0.031,0.042,0.039,0.055,0.036,0.035,0.076,0.036,0.046,0.075,0.038,0.043,0.035,0.044,0.039,0.038,0.050,0.035,0.035,.051])\n",
    "for p in preds:\n",
    "    p /= probs'''\n",
    "for i, l in enumerate(yt):\n",
    "    pred = preds[i]\n",
    "    list5 = (-pred).argsort()[:5]\n",
    "    top = pred.argmax()\n",
    "    if top == l:\n",
    "        top1 += 1.0\n",
    "    if np.isin(l, list5):\n",
    "        top5 += 1.0\n",
    "\n",
    "print(top1/size, top5/size)"
   ]
  },
  {
   "cell_type": "code",
   "execution_count": 19,
   "metadata": {},
   "outputs": [],
   "source": [
    "# Produces Grad-CAM heatmaps\n",
    "# Adapted from https://keras.io/examples/vision/grad_cam/\n",
    "# Modifications include the model that produces outputs of the last convolutional layer \n",
    "# and the one that takes in the last conv layer’s outputs and outputs scores for each class\n",
    "\n",
    "from tensorflow.keras import layers\n",
    "from tensorflow.keras.applications.densenet import DenseNet121\n",
    "dense = model.layers[1].get_weights()\n",
    "def gradcam(img_array, model):\n",
    "\n",
    "    til_conv = tf.keras.Sequential()\n",
    "    til_conv.add(layers.experimental.preprocessing.RandomFlip(\"horizontal\", input_shape = (224, 224, 3)))\n",
    "    til_conv.add(DenseNet121(weights=None,  \n",
    "                 include_top=False,\n",
    "                 pooling=None))\n",
    "    til_conv.layers[1].set_weights(dense)\n",
    "    \n",
    "    # create model that takes resnet output as input and generate classification info\n",
    "    classifier_model = tf.keras.Sequential()\n",
    "    classifier_model.add(tf.keras.layers.GlobalAveragePooling2D(input_shape = til_conv.output_shape[1:]))\n",
    "    classifier_model.add(model.layers[3])\n",
    "    classifier_model.add(model.layers[4])\n",
    "    classifier_model.add(model.layers[5])\n",
    "    classifier_model.add(layers.Activation('softmax', name = 'softmax'))\n",
    "    \n",
    "    # compute the gradient of a class with respect to the activations of the last conv layer in resnet\n",
    "    with tf.GradientTape() as tape:\n",
    "        resnet_output = til_conv(img_array)\n",
    "        tape.watch(resnet_output)\n",
    "        preds = classifier_model(resnet_output)\n",
    "        top_pred_index = tf.argmax(preds[0])\n",
    "        top_class_channel = preds[:, top_pred_index]\n",
    "\n",
    "    # gradient of a class with regard to the output feature map of the last conv layer in resnet\n",
    "    grads = tape.gradient(top_class_channel, resnet_output)\n",
    "\n",
    "    # a vector where each entry is the mean of the gradient over a specific feature map channel\n",
    "    pooled_grads = tf.reduce_mean(grads, axis=(0, 1, 2))\n",
    "\n",
    "    # multiply each channel in the feature map array by \"how important this channel is\" with regard to a class\n",
    "    resnet_output = resnet_output.numpy()[0]\n",
    "    pooled_grads = pooled_grads.numpy()\n",
    "    for i in range(pooled_grads.shape[-1]):\n",
    "        resnet_output[:, :, i] *= pooled_grads[i]\n",
    "\n",
    "    # channel-wise mean of the resulting feature map\n",
    "    heatmap = np.mean(resnet_output, axis=-1)\n",
    "\n",
    "    # normalize the heatmap between 0 & 1\n",
    "    heatmap = np.maximum(heatmap, 0) / np.max(heatmap)\n",
    "    \n",
    "    return heatmap"
   ]
  },
  {
   "cell_type": "code",
   "execution_count": 158,
   "metadata": {
    "scrolled": true
   },
   "outputs": [
    {
     "data": {
      "text/plain": [
       "array([22,  3, 13,  0,  2], dtype=int64)"
      ]
     },
     "execution_count": 158,
     "metadata": {},
     "output_type": "execute_result"
    }
   ],
   "source": [
    "import cv2\n",
    "t=cv2.imread('d/zaha/02_zha_changsha_virgilesimonbertrand_lowres45-1440x1080.jpg')\n",
    "heatmap = gradcam(np.array([preprocess_input(t)]), model)\n",
    "(-model.predict(np.array([preprocess_input(t)]))).argsort()[0,:5] #.argmax()"
   ]
  },
  {
   "cell_type": "code",
   "execution_count": 160,
   "metadata": {},
   "outputs": [
    {
     "data": {
      "text/plain": [
       "<matplotlib.image.AxesImage at 0x1f507b025b0>"
      ]
     },
     "execution_count": 160,
     "metadata": {},
     "output_type": "execute_result"
    },
    {
     "data": {
      "image/png": "[encoded data removed]",
      "text/plain": [
       "<Figure size 432x288 with 1 Axes>"
      ]
     },
     "metadata": {
      "needs_background": "light"
     },
     "output_type": "display_data"
    }
   ],
   "source": [
    "# adapted from https://keras.io/examples/vision/grad_cam/\n",
    "\n",
    "import matplotlib.cm as cm\n",
    "heatmap = np.uint8(255 * heatmap)\n",
    "# We use jet colormap to colorize heatmap\n",
    "jet = cm.get_cmap(\"jet\")\n",
    "# We use RGB values of the colormap\n",
    "jet_colors = jet(np.arange(256))[:, :3]\n",
    "jet_heatmap = jet_colors[heatmap]\n",
    "jet_heatmap = tf.keras.preprocessing.image.array_to_img(jet_heatmap)\n",
    "jet_heatmap = jet_heatmap.resize((224, 224))\n",
    "jet_heatmap = tf.keras.preprocessing.image.img_to_array(jet_heatmap)\n",
    "superimposed_img = jet_heatmap * 0.4 + cv2.cvtColor(t, cv2.COLOR_BGR2RGB)\n",
    "superimposed_img = tf.keras.preprocessing.image.array_to_img(superimposed_img)\n",
    "plt.axis('off')\n",
    "plt.imshow(superimposed_img)"
   ]
  },
  {
   "cell_type": "code",
   "execution_count": 123,
   "metadata": {
    "scrolled": false
   },
   "outputs": [
    {
     "data": {
      "image/png": "[encoded data removed]",
      "text/plain": [
       "<Figure size 432x288 with 1 Axes>"
      ]
     },
     "metadata": {
      "needs_background": "light"
     },
     "output_type": "display_data"
    }
   ],
   "source": [
    "import matplotlib.pyplot as plt\n",
    "plt.plot(loss)\n",
    "plt.plot(v_loss)\n",
    "plt.title('model loss')\n",
    "plt.ylabel('loss')\n",
    "plt.xlabel('epoch')\n",
    "plt.legend(['train', 'val'], loc='upper right')\n",
    "plt.show()"
   ]
  },
  {
   "cell_type": "code",
   "execution_count": null,
   "metadata": {},
   "outputs": [],
   "source": [
    "# confusion matrix\n",
    "\n",
    "y_pred = model.predict(np.array(x_test_p))\n",
    "cm = confusion_matrix(y_test, y_pred.argmax(axis=1))\n",
    "new = np.zeros((classes, classes))\n",
    "for i in range(classes):\n",
    "    sum = np.sum(cm[i])\n",
    "    new[i] = np.round(cm[i] / sum, 3)"
   ]
  },
  {
   "cell_type": "code",
   "execution_count": null,
   "metadata": {},
   "outputs": [],
   "source": [
    "import matplotlib.ticker as plticker\n",
    "\n",
    "y_labels = ['Tadao Ando 0', 'Coop Himmelb(l)au 1', 'Le Corbusier 2', \n",
    "          'Peter Eisenman 3', 'Frank Gehry 4', 'Steven Holl 5', 'Toyo Ito 6', \n",
    "          'Louis Kahn 7', 'Rem Koolhaas 8', 'Daniel Libeskind 9', \n",
    "          'Thom Mayne 10', 'Richard Meier 11', 'MVRDV 12', 'Oscar Niemeyer 13', \n",
    "          'IM Pei 14', 'Renzo Piano 15', 'Richard Rogers 16', \n",
    "          'Mies van der Rohe 17', 'SANAA 18', 'Bernard Tschumi 19', \n",
    "          'Wang Shu 20', 'Frank Lloyd Wright 21', 'Zaha Hadid 22']\n",
    "\n",
    "x_labels = np.arange(23).tolist()\n",
    "\n",
    "fig = plt.figure(figsize=(8, 8))\n",
    "sub = fig.add_subplot(111)\n",
    "mat = sub.matshow(new)\n",
    "fig.colorbar(mat)\n",
    "\n",
    "loc = plticker.MultipleLocator(base=1.0)\n",
    "sub.xaxis.set_major_locator(loc)\n",
    "sub.yaxis.set_major_locator(loc)\n",
    "sub.set_xticklabels([''] + x_labels)\n",
    "sub.set_yticklabels([''] + y_labels)\n",
    "plt.xlabel('Prediction')\n",
    "plt.ylabel('Truth')\n",
    "sub.xaxis.set_label_position('top')\n",
    "plt.show()"
   ]
  }
 ],
 "metadata": {
  "kernelspec": {
   "display_name": "Python 3",
   "language": "python",
   "name": "python3"
  },
  "language_info": {
   "codemirror_mode": {
    "name": "ipython",
    "version": 3
   },
   "file_extension": ".py",
   "mimetype": "text/x-python",
   "name": "python",
   "nbconvert_exporter": "python",
   "pygments_lexer": "ipython3",
   "version": "3.8.5"
  }
 },
 "nbformat": 4,
 "nbformat_minor": 4
}

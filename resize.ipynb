{
 "cells": [
  {
   "cell_type": "code",
   "execution_count": null,
   "metadata": {},
   "outputs": [],
   "source": [
    "# resizes images to 224 by 224\n",
    "\n",
    "import os, sys\n",
    "import cv2\n",
    "\n",
    "# import from this folder\n",
    "inPath = sys.argv[1]\n",
    "# export to this folder\n",
    "outPath = sys.argv[2]\n",
    "\n",
    "target = (224, 224)\n",
    "\n",
    "for dir in os.listdir(inPath):\n",
    "  inn = os.path.join(inPath, dir)\n",
    "  outt = os.path.join(outPath, dir)\n",
    "  for fn in os.listdir(inn):\n",
    "    img = cv2.imread(os.path.join(inn, fn))\n",
    "    if img is None: continue\n",
    "    h, w, c = img.shape\n",
    "    dim = min(w, h)\n",
    "    start = max(w, h) // 2 - dim // 2\n",
    "    if dim == h: crop = img[:dim, start:(start + dim), :]\n",
    "    else: crop = img[start:(start + dim), :dim, :]\n",
    "    out = cv2.resize(crop, dsize = target)\n",
    "    name = fn.split('.')\n",
    "    cv2.imwrite(os.path.join(outt, name[0] + '.jpg'), out)"
   ]
  }
 ],
 "metadata": {
  "kernelspec": {
   "display_name": "Python 3",
   "language": "python",
   "name": "python3"
  },
  "language_info": {
   "codemirror_mode": {
    "name": "ipython",
    "version": 3
   },
   "file_extension": ".py",
   "mimetype": "text/x-python",
   "name": "python",
   "nbconvert_exporter": "python",
   "pygments_lexer": "ipython3",
   "version": "3.8.5"
  }
 },
 "nbformat": 4,
 "nbformat_minor": 4
}
